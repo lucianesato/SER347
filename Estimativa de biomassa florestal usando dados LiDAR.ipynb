{
 "cells": [
  {
   "cell_type": "markdown",
   "metadata": {
    "slideshow": {
     "slide_type": "slide"
    }
   },
   "source": [
    "# ESTIMATIVA DE BIOMASSA FLORESTAL USANDO DADOS LIDAR\n",
    "\n",
    "**SER-347**  Introdução à Programação para Sensoriamento Remoto\n",
    "\n",
    "**Nome:** Luciane Yumie Sato\n",
    "<p style=\"font-size:60%;\">\n",
    "**Contato:** lucianesato@gmail.com\n",
    "</p>\n",
    "\n",
    "<img src=\".\\Figuras\\lidar.png\">"
   ]
  },
  {
   "cell_type": "markdown",
   "metadata": {
    "slideshow": {
     "slide_type": "slide"
    }
   },
   "source": [
    "# Introdução:\n",
    "<p style=\"font-size:60%;\">\n",
    "Esse roteiro é parte do trabalho desenvolvido para a disciplina de Introdução à Programação para Sensoriamento Remoto (SER-347) do Instituto Nacional de Pesquisas Espaciais (INPE).\n",
    "</p>\n",
    "\n",
    "<p style=\"font-size:60%;\">\n",
    "As amostras de dados LiDAR (Light Detection and Ranging) são parte do projeto **Monitoramento Ambiental por Satélite no Bioma Amazônia (MSA)**, do subprojeto Melhoria dos Métodos de Estimativa de Biomassa e de Modelos de Estimativa de Emissões por Mudança de Uso da Terra. Para maiores informações do projeto acesse o site do projeto http://www.ccst.inpe.br/projetos/eba-estimativa-de-biomassa-na-amazonia/.\n",
    "</p>\n",
    "\n",
    "<p style=\"font-size:60%;\">\n",
    "No total o projeto coletou 1.000 transectos LiDAR. Para facilitar o processamento, essa rotina permite que vários arquivos LiDAR sejam processados sem a necessidade de realizar as etapas de processamento arquivo por arquivo.\n",
    "</p>\n",
    "\n",
    "<p style=\"font-size:60%;\">\n",
    "Para o processamento dos dados LiDAR é utilizado o programa LASTools, que é um software específico para processamento de dados LiDAR. \n",
    "</p>\n",
    "\n",
    "<p style=\"font-size:90%;\">\n",
    "O principal **objetivo** desse trabalho é estimar a biomassa florestal a partir de dados coletados com o instrumento LiDAR. Além disso, com o desenvolvimento desse trabalho, buscou-se automatizar o processo de cálculo da estimativa da biomassa florestal.\n",
    "</p>"
   ]
  },
  {
   "cell_type": "markdown",
   "metadata": {
    "slideshow": {
     "slide_type": "slide"
    }
   },
   "source": [
    "# Resumo Metodologia:\n",
    "\n",
    "![caption](Figuras/metodologia_biomassa.png)"
   ]
  },
  {
   "cell_type": "markdown",
   "metadata": {
    "slideshow": {
     "slide_type": "slide"
    }
   },
   "source": [
    "## **1. Carregar as bibliotecas**"
   ]
  },
  {
   "cell_type": "code",
   "execution_count": 2,
   "metadata": {
    "slideshow": {
     "slide_type": "-"
    }
   },
   "outputs": [],
   "source": [
    "from osgeo import gdal, ogr\n",
    "import geopandas as gpd"
   ]
  },
  {
   "cell_type": "markdown",
   "metadata": {
    "slideshow": {
     "slide_type": "slide"
    }
   },
   "source": [
    "## 2. Criação do 1 $^{\\circ}$ conjuto de dados LiDAR (originais)\n",
    "\n",
    "O software LASTools permite processar uma lista de arquivo (file_list) que indica o caminho dos arquivos que serão processados. A criação do arquivo file_list facilita o processamento de vários arquivos e, com irro, não é necessário processar um arquivo de cada vez."
   ]
  },
  {
   "cell_type": "code",
   "execution_count": 2,
   "metadata": {
    "slideshow": {
     "slide_type": "-"
    }
   },
   "outputs": [
    {
     "name": "stdout",
     "output_type": "stream",
     "text": [
      "C:\\ser347\\data\\laz\\NP_T_0066.laz\n",
      "C:\\ser347\\data\\laz\\NP_T_0067.laz\n",
      "C:\\ser347\\data\\laz\\NP_T_0068.laz\n",
      "C:\\ser347\\data\\laz\\NP_T_0069.laz\n",
      "C:\\ser347\\data\\laz\\NP_T_0070.laz\n"
     ]
    }
   ],
   "source": [
    "import os\n",
    "\n",
    "#Diretório com os arquivos LiDAR (originais)\n",
    "dir = \"C:\\\\ser347\\\\data\\\\laz\"\n",
    "\n",
    "#Criando o arquivo file_list com os arquivos no diretório definido.\n",
    "file_list_laz = os.path.join(dir,\"file_list.txt\")\n",
    "\n",
    "f = open(file_list_laz, 'w')\n",
    "\n",
    "#Para os arquivos do diretório (dir) que termine com .las e comece com \"NP_T_\", cria o file_list:\n",
    "for file in os.listdir(dir):\n",
    "    if file.endswith(\".laz\") and file.startswith(\"NP_T_\"):\n",
    "        print(os.path.join(dir, file))\n",
    "        f.write(\"{}\\n\".format(os.path.join(dir, file)))\n",
    "f.close()"
   ]
  },
  {
   "cell_type": "markdown",
   "metadata": {
    "slideshow": {
     "slide_type": "slide"
    }
   },
   "source": [
    "## 3. Lasnoise\n",
    "\n",
    "**Função:** Remover o ruído dos dados LiDAR. \n",
    "\n",
    "\n",
    "\n",
    "## Parâmetros:\n",
    "- **lof**: indica que todos os arquivos do file_liest sserão processados.\n",
    "- **step_xy**: informa que as unidades de medida estão em metros.\n",
    "- **remove_noise**: remove os ruídos.\n",
    "- **odir**: especifica o diretório de saída.\n",
    "- **olaz**: especifica o formato do arquivo de saída."
   ]
  },
  {
   "cell_type": "code",
   "execution_count": 1,
   "metadata": {
    "slideshow": {
     "slide_type": "-"
    }
   },
   "outputs": [
    {
     "name": "stdout",
     "output_type": "stream",
     "text": [
      "0  done with 'C:\\ser347\\lasnoise\\NP_T_0066.laz'. took 101.584 sec. found 125447 noise points.\n",
      "done with 'C:\\ser347\\lasnoise\\NP_T_0067.laz'. took 197.968 sec. found 85563 noise points.\n",
      "done with 'C:\\ser347\\lasnoise\\NP_T_0068.laz'. took 292.951 sec. found 42781 noise points.\n",
      "done with 'C:\\ser347\\lasnoise\\NP_T_0069.laz'. took 390.546 sec. found 66803 noise points.\n",
      "done with 'C:\\ser347\\lasnoise\\NP_T_0070.laz'. took 500.111 sec. found 46598 noise points.\n",
      "\n"
     ]
    }
   ],
   "source": [
    "from subprocess import PIPE, run\n",
    "\n",
    "lasnoise = [\"C:\\\\LAStools\\\\bin\\\\lasnoise.exe\",\"-lof\", \"C:\\\\ser347\\\\data\\\\laz\\\\file_list.txt\",\n",
    "            \"-step_xy\", \"4\", \"-step_z\", \"1\", \"-remove_noise\", \"-odir\", \n",
    "            \"C:\\\\ser347\\\\lasnoise\", \"-olaz\"]\n",
    "removenoise = run(lasnoise, stdout=PIPE, stderr=PIPE, universal_newlines=True)\n",
    "print(removenoise.returncode, removenoise.stdout, removenoise.stderr)"
   ]
  },
  {
   "cell_type": "markdown",
   "metadata": {
    "slideshow": {
     "slide_type": "subslide"
    }
   },
   "source": [
    "## 3. Lasnoise\n",
    "\n",
    "<img src=\".\\Figuras\\lidar_original1.png\" width = \"100%\">"
   ]
  },
  {
   "cell_type": "markdown",
   "metadata": {
    "slideshow": {
     "slide_type": "subslide"
    }
   },
   "source": [
    "## 3. Lasnoise\n",
    "\n",
    "<img src=\".\\Figuras\\lasnoise.png\" width = \"100%\">"
   ]
  },
  {
   "cell_type": "markdown",
   "metadata": {
    "slideshow": {
     "slide_type": "skip"
    }
   },
   "source": [
    "## 4. Criação do 2$^{\\circ}$ conjuto de dados LiDAR (sem ruído)"
   ]
  },
  {
   "cell_type": "code",
   "execution_count": 4,
   "metadata": {
    "slideshow": {
     "slide_type": "skip"
    }
   },
   "outputs": [
    {
     "name": "stdout",
     "output_type": "stream",
     "text": [
      "C:\\ser347\\lasnoise\\NP_T_0066.laz\n",
      "C:\\ser347\\lasnoise\\NP_T_0067.laz\n",
      "C:\\ser347\\lasnoise\\NP_T_0067_1.laz\n",
      "C:\\ser347\\lasnoise\\NP_T_0068.laz\n",
      "C:\\ser347\\lasnoise\\NP_T_0069.laz\n",
      "C:\\ser347\\lasnoise\\NP_T_0070.laz\n"
     ]
    }
   ],
   "source": [
    "#Diretório com os arquivos LiDAR (sem ruído)\n",
    "dir = \"C:\\\\ser347\\\\lasnoise\"\n",
    "\n",
    "#Criando o arquivo file_list com os arquivos no diretório definido.\n",
    "file_list_lasnoise = os.path.join(dir,\"file_list.txt\")\n",
    "\n",
    "f = open(file_list_lasnoise, 'w')\n",
    "\n",
    "#Para os arquivos do diretório (dir) que termine com .las e comece com \"NP_T_\", cria o file_list:\n",
    "for file in os.listdir(dir):\n",
    "    if file.endswith(\".laz\") and file.startswith(\"NP_T_\"):\n",
    "        print(os.path.join(dir, file))\n",
    "        f.write(\"{}\\n\".format(os.path.join(dir, file)))\n",
    "f.close()"
   ]
  },
  {
   "cell_type": "markdown",
   "metadata": {
    "slideshow": {
     "slide_type": "slide"
    }
   },
   "source": [
    "## 5. Lasground\n",
    "\n",
    "**Função:** Gerar o modelo de elevação do terreno. Essa etapa é necessária para a etapa das alturas das árvores e, posteriomente, para a obtenção da biomassa florestal. \n",
    "\n",
    "A altura das árvores é obtida através da subtração entre o os pontos do topo do Dossel e os pontos do terreno.\n",
    "\n",
    "A Figura apresentada abaixo ilustra o processo para a obtenção da altura das árvores. \n",
    "\n",
    "<img src=\"./Figuras/subtracao.png\" width = \"80%\">\n",
    "\n",
    "## Parâmetros:\n",
    "- **cores**: processa os arquivos usando multiplos cores.\n",
    "- **drop_classifiction**: filtra os pontos de acordo com a sua classificação.\n",
    "- **nature**: usado para terrenos sem construções."
   ]
  },
  {
   "cell_type": "code",
   "execution_count": 6,
   "metadata": {
    "slideshow": {
     "slide_type": "subslide"
    }
   },
   "outputs": [
    {
     "name": "stdout",
     "output_type": "stream",
     "text": [
      "0  done with 'C:\\ser347\\lasground\\NP_T_0068.laz'. total time 1737.82 sec.\n",
      "done with 'C:\\ser347\\lasground\\NP_T_0066.laz'. total time 1790.4 sec.\n",
      "done with 'C:\\ser347\\lasground\\NP_T_0067.laz'. total time 1807.05 sec.\n",
      "done with 'C:\\ser347\\lasground\\NP_T_0069.laz'. total time 2003.32 sec.\n",
      "done with 'C:\\ser347\\lasground\\NP_T_0070.laz'. total time 996.686 sec.\n",
      "\n"
     ]
    }
   ],
   "source": [
    "lasground = [\"C:\\\\LAStools\\\\bin\\\\lasground_new.exe\",\"-lof\", \"C:\\\\ser347\\\\lasnoise\\\\file_list.txt\",\n",
    "            \"-cores\",\"4\",\"-drop_classification\",\"7\",\"-nature\",\"-odir\",\"C:\\\\ser347\\\\lasground\",\"-olaz\"]\n",
    "\n",
    "ground = run(lasground, stdout=PIPE, stderr=PIPE, universal_newlines=True)\n",
    "print(ground.returncode, ground.stdout, ground.stderr)"
   ]
  },
  {
   "cell_type": "markdown",
   "metadata": {
    "slideshow": {
     "slide_type": "subslide"
    }
   },
   "source": [
    "## 5. Lasground\n",
    "\n",
    "<img src=\"./Figuras/lasground1.png\" width = \"80%\">"
   ]
  },
  {
   "cell_type": "markdown",
   "metadata": {
    "slideshow": {
     "slide_type": "skip"
    }
   },
   "source": [
    "## 6. Criação do 3$^{\\circ}$ conjuto de dados LiDAR"
   ]
  },
  {
   "cell_type": "code",
   "execution_count": 7,
   "metadata": {
    "slideshow": {
     "slide_type": "skip"
    }
   },
   "outputs": [
    {
     "name": "stdout",
     "output_type": "stream",
     "text": [
      "C:\\ser347\\lasground\\NP_T_0066.laz\n",
      "C:\\ser347\\lasground\\NP_T_0067.laz\n",
      "C:\\ser347\\lasground\\NP_T_0068.laz\n",
      "C:\\ser347\\lasground\\NP_T_0069.laz\n",
      "C:\\ser347\\lasground\\NP_T_0070.laz\n"
     ]
    }
   ],
   "source": [
    "dir = \"C:\\\\ser347\\\\lasground\"\n",
    "\n",
    "file_list_lasground = os.path.join(dir,\"file_list.txt\")\n",
    "\n",
    "f = open(file_list_lasground, 'w')\n",
    "\n",
    "for file in os.listdir(dir):\n",
    "    if file.endswith(\".laz\") and file.startswith(\"NP_T_\"):\n",
    "        print(os.path.join(dir, file))\n",
    "        f.write(\"{}\\n\".format(os.path.join(dir, file)))\n",
    "f.close()"
   ]
  },
  {
   "cell_type": "markdown",
   "metadata": {
    "slideshow": {
     "slide_type": "slide"
    }
   },
   "source": [
    "## 7. Lasheight\n",
    "**Função:** Gerar o modelo de altura. Essa etapa é necessária para obtenção da biomassa. A biomassa florestal é gerada a partir da regreção com modelo de altura.\n",
    "\n",
    "\n",
    "## Parâmetros:\n",
    "- **replace_z**: normaliza a altura dos pontos de acordo com a referência no terreno.\n",
    "- **drop_above**: elina os pontos com uma altura determinada."
   ]
  },
  {
   "cell_type": "code",
   "execution_count": 8,
   "metadata": {
    "slideshow": {
     "slide_type": "-"
    }
   },
   "outputs": [
    {
     "name": "stdout",
     "output_type": "stream",
     "text": [
      "0  done with 'C:\\ser347\\lasheight\\NP_T_0066.laz'. total time 255.876 sec.\n",
      "done with 'C:\\ser347\\lasheight\\NP_T_0069.laz'. total time 269.512 sec.\n",
      "done with 'C:\\ser347\\lasheight\\NP_T_0067.laz'. total time 271.525 sec.\n",
      "done with 'C:\\ser347\\lasheight\\NP_T_0068.laz'. total time 283.255 sec.\n",
      "done with 'C:\\ser347\\lasheight\\NP_T_0070.laz'. total time 149.071 sec.\n",
      "\n"
     ]
    }
   ],
   "source": [
    "lasheight = [\"C:\\\\LAStools\\\\bin\\\\lasheight.exe\",\"-lof\", \"C:\\\\ser347\\\\lasground\\\\file_list.txt\",\n",
    "            \"-cores\",\"4\",\"-replace_z\",\"-drop_below\",\"0.01\",\"-drop_above\",\"40\",\"-odir\",\n",
    "             \"C:\\\\ser347\\\\lasheight\",\"-olaz\"]\n",
    "\n",
    "height = run(lasheight, stdout=PIPE, stderr=PIPE, universal_newlines=True)\n",
    "print(height.returncode, height.stdout, height.stderr)\n"
   ]
  },
  {
   "cell_type": "markdown",
   "metadata": {
    "slideshow": {
     "slide_type": "slide"
    }
   },
   "source": [
    "## 7. Lasheight\n",
    "\n",
    "<img src=\"./Figuras/lasheight.png\" width = \"80%\">"
   ]
  },
  {
   "cell_type": "markdown",
   "metadata": {
    "slideshow": {
     "slide_type": "skip"
    }
   },
   "source": [
    "## 8. Criação do 4$^{\\circ}$ conjuto de dados LiDAR gerados pelo Lasheight"
   ]
  },
  {
   "cell_type": "code",
   "execution_count": 9,
   "metadata": {
    "slideshow": {
     "slide_type": "skip"
    }
   },
   "outputs": [
    {
     "name": "stdout",
     "output_type": "stream",
     "text": [
      "C:\\ser347\\lasheight\\NP_T_0066.laz\n",
      "C:\\ser347\\lasheight\\NP_T_0067.laz\n",
      "C:\\ser347\\lasheight\\NP_T_0068.laz\n",
      "C:\\ser347\\lasheight\\NP_T_0069.laz\n",
      "C:\\ser347\\lasheight\\NP_T_0070.laz\n"
     ]
    }
   ],
   "source": [
    "dir = \"C:\\\\ser347\\\\lasheight\"\n",
    "\n",
    "file_list_lasheight = os.path.join(dir,\"file_list.txt\")\n",
    "\n",
    "f = open(file_list_lasheight, 'w')\n",
    "\n",
    "for file in os.listdir(dir):\n",
    "    if file.endswith(\".laz\") and file.startswith(\"NP_T_\"):\n",
    "        print(os.path.join(dir, file))\n",
    "        f.write(\"{}\\n\".format(os.path.join(dir, file)))\n",
    "f.close()"
   ]
  },
  {
   "cell_type": "markdown",
   "metadata": {
    "slideshow": {
     "slide_type": "slide"
    }
   },
   "source": [
    "## 9. Lasclassify\n",
    "**Função**: Classificar os pontos de terreno e vegetação."
   ]
  },
  {
   "cell_type": "code",
   "execution_count": 10,
   "metadata": {
    "slideshow": {
     "slide_type": "-"
    }
   },
   "outputs": [
    {
     "name": "stdout",
     "output_type": "stream",
     "text": [
      "0  done with 'C:\\ser347\\lasclassify1\\NP_T_0066.laz'. total time 682.974 sec.\n",
      "done with 'C:\\ser347\\lasclassify1\\NP_T_0069.laz'. total time 700.495 sec.\n",
      "done with 'C:\\ser347\\lasclassify1\\NP_T_0067.laz'. total time 721.204 sec.\n",
      "done with 'C:\\ser347\\lasclassify1\\NP_T_0068.laz'. total time 738.545 sec.\n",
      "done with 'C:\\ser347\\lasclassify1\\NP_T_0070.laz'. total time 347.835 sec.\n",
      "\n"
     ]
    }
   ],
   "source": [
    "#Classificar os pontos - Lasclassify\n",
    "\n",
    "from subprocess import PIPE, run\n",
    "\n",
    "lasclassify = [\"C:\\\\LAStools\\\\bin\\\\lasclassify.exe\",\"-lof\", \"C:\\\\ser347\\\\lasheight\\\\file_list.txt\",\"-cores\",\"4\",\"-odir\",\n",
    "             \"C:\\\\ser347\\\\lasclassify1\",\"-olaz\"]\n",
    "\n",
    "classify1 = run(lasclassify, stdout=PIPE, stderr=PIPE, universal_newlines=True)\n",
    "print(classify1.returncode, classify1.stdout, classify1.stderr)"
   ]
  },
  {
   "cell_type": "markdown",
   "metadata": {
    "slideshow": {
     "slide_type": "skip"
    }
   },
   "source": [
    "## 10. Criação do 5$^{\\circ}$  conjuto de dados LiDAR gerados pelo Lasclassify"
   ]
  },
  {
   "cell_type": "code",
   "execution_count": 11,
   "metadata": {
    "slideshow": {
     "slide_type": "skip"
    }
   },
   "outputs": [
    {
     "name": "stdout",
     "output_type": "stream",
     "text": [
      "C:\\ser347\\lasclassify1\\NP_T_0066.laz\n",
      "C:\\ser347\\lasclassify1\\NP_T_0067.laz\n",
      "C:\\ser347\\lasclassify1\\NP_T_0068.laz\n",
      "C:\\ser347\\lasclassify1\\NP_T_0069.laz\n",
      "C:\\ser347\\lasclassify1\\NP_T_0070.laz\n"
     ]
    }
   ],
   "source": [
    "#Criando a lista qde arquivos lasground que serão processados. Facilita o processamento de vários arquivos.\n",
    "\n",
    "dir = \"C:\\\\ser347\\\\lasclassify1\"\n",
    "\n",
    "file_list_lasheight = os.path.join(dir,\"file_list.txt\")\n",
    "\n",
    "f = open(file_list_lasheight, 'w')\n",
    "\n",
    "for file in os.listdir(dir):\n",
    "    if file.endswith(\".laz\") and file.startswith(\"NP_T_\"):\n",
    "        print(os.path.join(dir, file))\n",
    "        f.write(\"{}\\n\".format(os.path.join(dir, file)))\n",
    "f.close()"
   ]
  },
  {
   "cell_type": "markdown",
   "metadata": {
    "slideshow": {
     "slide_type": "subslide"
    }
   },
   "source": [
    "### 9.1. Lasclassify\n",
    "**Função:** Classificar os pontos de terreno e vegetação. As vezes é necessário classificar os pontos mais de uma vez, pois nem todos os pontos são classificados na primeira classificação."
   ]
  },
  {
   "cell_type": "code",
   "execution_count": 12,
   "metadata": {
    "slideshow": {
     "slide_type": "-"
    }
   },
   "outputs": [
    {
     "name": "stdout",
     "output_type": "stream",
     "text": [
      "0  done with 'C:\\ser347\\lasclassify2\\NP_T_0066.laz'. total time 720.242 sec.\n",
      "done with 'C:\\ser347\\lasclassify2\\NP_T_0069.laz'. total time 740.651 sec.\n",
      "done with 'C:\\ser347\\lasclassify2\\NP_T_0067.laz'. total time 764.531 sec.\n",
      "done with 'C:\\ser347\\lasclassify2\\NP_T_0068.laz'. total time 784.557 sec.\n",
      "done with 'C:\\ser347\\lasclassify2\\NP_T_0070.laz'. total time 390.912 sec.\n",
      "\n"
     ]
    }
   ],
   "source": [
    "#Segunda classificação - Lasclassify\n",
    "\n",
    "lasclassify2 = [\"C:\\\\LAStools\\\\bin\\\\lasclassify.exe\",\"-lof\", \"C:\\\\ser347\\\\lasclassify1\\\\file_list.txt\",\n",
    "               \"-cores\",\"4\", \"-change_classification_from_to\",\"1\",\"5\",\"-change_classification_from_to\",\"6\",\"5\",\n",
    "               \"-odir\",\"C:\\\\ser347\\\\lasclassify2\",\"-olaz\"]\n",
    "\n",
    "classify2 = run(lasclassify2, stdout=PIPE, stderr=PIPE, universal_newlines=True)\n",
    "print(classify2.returncode, classify2.stdout, classify2.stderr)"
   ]
  },
  {
   "cell_type": "markdown",
   "metadata": {
    "slideshow": {
     "slide_type": "skip"
    }
   },
   "source": [
    "## 11. Criação do 6$^o$  conjuto de dados LiDAR gerados pelo Lasclassify"
   ]
  },
  {
   "cell_type": "code",
   "execution_count": 16,
   "metadata": {
    "slideshow": {
     "slide_type": "skip"
    }
   },
   "outputs": [
    {
     "name": "stdout",
     "output_type": "stream",
     "text": [
      "C:\\ser347\\lasclassify2\\NP_T_0066.laz\n",
      "C:\\ser347\\lasclassify2\\NP_T_0067.laz\n",
      "C:\\ser347\\lasclassify2\\NP_T_0068.laz\n",
      "C:\\ser347\\lasclassify2\\NP_T_0069.laz\n",
      "C:\\ser347\\lasclassify2\\NP_T_0070.laz\n"
     ]
    }
   ],
   "source": [
    "#Criando a lista qde arquivos lasground que serão processados. Facilita o processamento de vários arquivos.\n",
    "\n",
    "dir = \"C:\\\\ser347\\\\lasclassify2\"\n",
    "\n",
    "file_list_lasheight = os.path.join(dir,\"file_list.txt\")\n",
    "\n",
    "f = open(file_list_lasheight, 'w')\n",
    "\n",
    "for file in os.listdir(dir):\n",
    "    if file.endswith(\".laz\") and file.startswith(\"NP_T_\"):\n",
    "        print(os.path.join(dir, file))\n",
    "        f.write(\"{}\\n\".format(os.path.join(dir, file)))\n",
    "f.close()"
   ]
  },
  {
   "cell_type": "markdown",
   "metadata": {
    "slideshow": {
     "slide_type": "slide"
    }
   },
   "source": [
    "## 12. Lasgrid\n",
    "**Função:** Gerar uma grade com os valores de altura das árvores."
   ]
  },
  {
   "cell_type": "code",
   "execution_count": 27,
   "metadata": {
    "slideshow": {
     "slide_type": "-"
    }
   },
   "outputs": [
    {
     "name": "stdout",
     "output_type": "stream",
     "text": [
      "0  \n"
     ]
    }
   ],
   "source": [
    "lasgrid = [\"C:\\\\LAStools\\\\bin\\\\lasgrid.exe\",\"-lof\", \"C:\\\\ser347\\\\lasclassify2\\\\file_list.txt\",\n",
    "          \"-cores\",\"4\",\"-elevation\",\"-highest\",\"-subcircle\",\"0.2\",\"-fill\",\"20\",\"-odir\",\"C:\\\\ser347\\\\lasgrid\",\"-oasc\"]\n",
    "\n",
    "gridtile = run(lasgrid, stdout=PIPE, stderr=PIPE, universal_newlines=True)\n",
    "print(gridtile.returncode, gridtile.stdout, gridtile.stderr)"
   ]
  },
  {
   "cell_type": "markdown",
   "metadata": {
    "slideshow": {
     "slide_type": "slide"
    }
   },
   "source": [
    "## 12. Lasgrid\n",
    "\n",
    "<img src=\"./Figuras/lasgrid.png\" width = \"50%\">\n"
   ]
  },
  {
   "cell_type": "markdown",
   "metadata": {
    "slideshow": {
     "slide_type": "slide"
    }
   },
   "source": [
    "## 13. Reprojetar os dados\n",
    "\n",
    "Após o processamento do software LASTolls, os arquivos das imagens LiDAR perdem a referência espacial. Por isso, é necesário reprojetar os dados.\n",
    "\n",
    "Será apresentada uma forma de reprojetar os dados, mas essa etapa pode ser feita de outras formas."
   ]
  },
  {
   "cell_type": "markdown",
   "metadata": {
    "slideshow": {
     "slide_type": "subslide"
    }
   },
   "source": [
    "### 13.1. Copiando os arquivos .prj dos dados LiDAR (originais) para a pasta dos arquivos de altura (lasgrid)."
   ]
  },
  {
   "cell_type": "code",
   "execution_count": 11,
   "metadata": {
    "slideshow": {
     "slide_type": "-"
    }
   },
   "outputs": [
    {
     "name": "stdout",
     "output_type": "stream",
     "text": [
      "POLIGONO_T_0066.prj\n",
      "POLIGONO_T_0067.prj\n",
      "POLIGONO_T_0068.prj\n",
      "POLIGONO_T_0069.prj\n",
      "POLIGONO_T_0070.prj\n"
     ]
    }
   ],
   "source": [
    "import os\n",
    "import shutil\n",
    "os.chdir('C:\\\\') #Make sure you add your source and destination path below\n",
    "\n",
    "dir_src = (\"C:\\\\ser347\\\\data\\\\shp\\\\\")\n",
    "dir_dst = (\"C:\\\\ser347\\\\lasgrid\")\n",
    "\n",
    "for filename in os.listdir(dir_src):\n",
    "    if filename.endswith('.prj'):\n",
    "        shutil.copy( dir_src + filename, dir_dst)\n",
    "        print(filename)"
   ]
  },
  {
   "cell_type": "markdown",
   "metadata": {
    "slideshow": {
     "slide_type": "subslide"
    }
   },
   "source": [
    "### 13.2 Renomear os arquivos .prj para o mesmo nome dos dados de altura."
   ]
  },
  {
   "cell_type": "code",
   "execution_count": 12,
   "metadata": {
    "slideshow": {
     "slide_type": "-"
    }
   },
   "outputs": [
    {
     "name": "stdout",
     "output_type": "stream",
     "text": [
      "C:\\ser347\\lasgrid\\POLIGONO_T_0066.prj\n",
      "C:\\ser347\\lasgrid\\POLIGONO_T_0067.prj\n",
      "C:\\ser347\\lasgrid\\POLIGONO_T_0068.prj\n",
      "C:\\ser347\\lasgrid\\POLIGONO_T_0069.prj\n",
      "C:\\ser347\\lasgrid\\POLIGONO_T_0070.prj\n"
     ]
    }
   ],
   "source": [
    "os.chdir('C:\\\\')\n",
    "\n",
    "dir_dst = (\"C:\\\\ser347\\\\lasgrid\")\n",
    "\n",
    "for file_name in os.listdir(dir_dst):\n",
    "    if file_name.endswith('.prj') and file_name.startswith(\"POLIGONO_T\"):\n",
    "        full_file_name = os.path.join(dir_dst, file_name)\n",
    "        os.rename(full_file_name, full_file_name.replace(\"POLIGONO_T\", \"NP_T_\"))\n",
    "        print(full_file_name)"
   ]
  },
  {
   "cell_type": "markdown",
   "metadata": {
    "slideshow": {
     "slide_type": "slide"
    }
   },
   "source": [
    "## 14. Cálculo da Biomassa Florestal\n",
    "\n",
    "Após o processamento dos dados LiDAR, é aplicada a equação de Longo et al. (2016) para obter os valores de biomassa para cada \n",
    "transectos LiDAR.\n",
    "\n",
    "**Equação: biomassa = $2*0.052*(Altura LiDAR**1.77)$**\n",
    "\n",
    "Nessa etapa são realizadas as seguintes tarefas para cada arquivo LiDAR:\n",
    "\n",
    "- Abrir o arquivo .asc\n",
    "- Ler o arquivos .asc como um array\n",
    "- Define os valores -9999 como noDATA\n",
    "- Aplicar a equação de Longo et al. (2016)"
   ]
  },
  {
   "cell_type": "code",
   "execution_count": 4,
   "metadata": {
    "slideshow": {
     "slide_type": "subslide"
    }
   },
   "outputs": [
    {
     "name": "stdout",
     "output_type": "stream",
     "text": [
      "<osgeo.gdal.Dataset; proxy of <Swig Object of type 'GDALDatasetShadow *' at 0x0000021BF9DCD2A0> >\n",
      "C:\\ser347\\AGB\\AGB_NP_T_0066.tif\n",
      "<osgeo.gdal.Dataset; proxy of <Swig Object of type 'GDALDatasetShadow *' at 0x0000021BF9AD44B0> >\n",
      "C:\\ser347\\AGB\\AGB_NP_T_0067.tif\n",
      "<osgeo.gdal.Dataset; proxy of <Swig Object of type 'GDALDatasetShadow *' at 0x0000021BF9DCD2A0> >\n",
      "C:\\ser347\\AGB\\AGB_NP_T_0068.tif\n",
      "<osgeo.gdal.Dataset; proxy of <Swig Object of type 'GDALDatasetShadow *' at 0x0000021BF9AD44B0> >\n",
      "C:\\ser347\\AGB\\AGB_NP_T_0069.tif\n",
      "<osgeo.gdal.Dataset; proxy of <Swig Object of type 'GDALDatasetShadow *' at 0x0000021BF9DCD2A0> >\n",
      "C:\\ser347\\AGB\\AGB_NP_T_0070.tif\n"
     ]
    }
   ],
   "source": [
    "#img = gdal.Open(\"C:\\\\ser347\\\\T_0066\\\\merger_grid_teste.asc\")\n",
    "import numpy as np\n",
    "import os\n",
    "import shutil\n",
    "import scipy.linalg\n",
    "os.chdir('C:\\\\')\n",
    "\n",
    "dir_dst = (\"C:\\\\ser347\\\\lasgrid\")\n",
    "\n",
    "for transecto_file in os.listdir(dir_dst):\n",
    "    if transecto_file.endswith('.asc'):\n",
    "        transecto = gdal.Open(os.path.join(dir_dst, transecto_file))\n",
    "        print(transecto)\n",
    "        transecto_array = transecto.ReadAsArray()\n",
    "        transecto_array[transecto_array==-9999]=np.nan\n",
    "        biomassa = 2*0.052*(transecto_array**1.77)\n",
    "        width = len(biomassa[0])\n",
    "        height = len(biomassa)\n",
    "        drive = gdal.GetDriverByName(\"GTiff\")\n",
    "        nome = \"AGB_\"+transecto_file[0:-3]+\"tif\"\n",
    "        arquivo_saida = os.path.join(\"C:\\\\ser347\\\\AGB\\\\\", nome)\n",
    "        print(arquivo_saida)\n",
    "        data_source = drive.Create(arquivo_saida, width, height, 1, gdal.GDT_Float32)\n",
    "        trans= transecto.GetGeoTransform()\n",
    "        proj = transecto.GetProjection()\n",
    "        data_source.SetGeoTransform(trans)\n",
    "        data_source.SetProjection(proj)\n",
    "        data_source.GetRasterBand(1).SetNoDataValue(np.nan)\n",
    "        data_source.GetRasterBand(1).WriteArray(biomassa)\n",
    "        data_source.FlushCache()\n",
    "        del data_source\n"
   ]
  },
  {
   "cell_type": "markdown",
   "metadata": {
    "slideshow": {
     "slide_type": "slide"
    }
   },
   "source": [
    "## 15. Plotar a biomassa florestal do transecto LiDAR"
   ]
  },
  {
   "cell_type": "code",
   "execution_count": 6,
   "metadata": {
    "slideshow": {
     "slide_type": "-"
    }
   },
   "outputs": [
    {
     "data": {
      "image/png": "[encoded data removed]",
      "text/plain": [
       "<matplotlib.figure.Figure at 0x21b98e44cc0>"
      ]
     },
     "metadata": {},
     "output_type": "display_data"
    }
   ],
   "source": [
    "import matplotlib.pyplot as plt\n",
    "\n",
    "biomassa = gdal.Open(\"C:\\ser347\\AGB\\AGB_NP_T_0066.tif\")\n",
    "biomassa_array = biomassa.ReadAsArray()\n",
    "\n",
    "# Plot PRISM array again\n",
    "fig, ax = plt.subplots(figsize=[15, 10])\n",
    "ax.set_title('AGB', fontsize=24)\n",
    " \n",
    "# Get the img object in order to pass it to the colorbar function\n",
    "img_plot = ax.imshow(biomassa_array, cmap='gist_earth') #jet\n",
    "\n",
    "cbar = plt.colorbar(img_plot, orientation='horizontal')\n",
    "cbar.set_label('AGB - kg/$m^2$', fontsize=24)\n",
    "\n",
    " \n",
    "ax.grid(True)\n",
    "plt.show()"
   ]
  },
  {
   "cell_type": "markdown",
   "metadata": {
    "slideshow": {
     "slide_type": "slide"
    }
   },
   "source": [
    "## 15. Histograma da biomassa florestal do transecto LiDAR"
   ]
  },
  {
   "cell_type": "code",
   "execution_count": 119,
   "metadata": {
    "slideshow": {
     "slide_type": "-"
    }
   },
   "outputs": [
    {
     "data": {
      "image/png": "[encoded data removed]",
      "text/plain": [
       "<matplotlib.figure.Figure at 0x21beec6fe48>"
      ]
     },
     "metadata": {},
     "output_type": "display_data"
    }
   ],
   "source": [
    "fig, ax = plt.subplots(figsize=[12, 7])\n",
    "ax.set_title('AGB', fontsize=24)\n",
    "\n",
    "plt.hist(biomassa_array_nn, density=True,rwidth=.8, color = \"skyblue\")\n",
    "plt.title(\"Histograma de Biomassa (kg/$m^2$)\", fontsize=20)\n",
    "plt.xlabel(\"Valor de Biomassa\", fontsize=20)\n",
    "plt.ylabel(\"Frequência\", fontsize=20)\n",
    "\n",
    "plt.axvline(biomassa_array_nn.mean(), color='red', linestyle='dashed', linewidth=2)\n",
    "#plt.text(30, .02, r'$\\mu=100,\\ \\sigma=15$')\n",
    "plt.annotate(biomassa_array_nn.mean(), xy=(31,0.0198), xytext =(40,0.0195),\n",
    "             arrowprops = dict(facecolor=\"black\",shrink = 0, width = 1, headwidth = 7), \n",
    "            fontsize = 14);\n"
   ]
  }
 ],
 "metadata": {
  "celltoolbar": "Slideshow",
  "kernelspec": {
   "display_name": "Python 3",
   "language": "python",
   "name": "python3"
  },
  "language_info": {
   "codemirror_mode": {
    "name": "ipython",
    "version": 3
   },
   "file_extension": ".py",
   "mimetype": "text/x-python",
   "name": "python",
   "nbconvert_exporter": "python",
   "pygments_lexer": "ipython3",
   "version": "3.6.4"
  }
 },
 "nbformat": 4,
 "nbformat_minor": 2
}
